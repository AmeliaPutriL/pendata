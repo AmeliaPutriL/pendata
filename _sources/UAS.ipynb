{
  "cells": [
    {
      "cell_type": "markdown",
      "metadata": {
        "id": "St-yLHhhKXqn"
      },
      "source": [
        "# Klasifikasi Deteksi Ranjau Darat pada Dataset ASTAMIDS\n",
        "\n",
        "Ranjau darat merupakan ancaman serius terhadap keselamatan manusia, terutama di wilayah pasca-konflik seperti Kamboja. Deteksi dan klasifikasi ranjau darat secara otomatis menjadi sangat penting untuk mendukung upaya pembersihan ranjau dan menjaga keselamatan masyarakat sipil maupun personel militer.\n",
        "\n",
        "Salah satu pendekatan untuk mendeteksi ranjau darat adalah melalui analisis data remote sensing yang dikumpulkan oleh sistem sensor canggih seperti ASTAMIDS (Airborne Standoff Minefield Detection System). Data ini mencakup citra multispektral dan hiperspektral dari area yang dicurigai, yang merekam berbagai informasi spektral dari permukaan tanah.\n",
        "\n",
        "Setiap objek di permukaan, baik ranjau maupun bukan ranjau, memantulkan cahaya dalam pola spektral yang berbeda. Pola-pola ini dapat diekstrak menjadi fitur numerik, seperti intensitas spektral pada panjang gelombang tertentu.\n",
        "\n",
        "\n",
        "\n",
        "\n",
        "\n",
        "\n"
      ]
    },
    {
      "cell_type": "markdown",
      "metadata": {
        "id": "GMxGyKxMU3Tv"
      },
      "source": [
        "## Data Understanding"
      ]
    },
    {
      "cell_type": "markdown",
      "metadata": {
        "id": "6Hjr91hjU91z"
      },
      "source": [
        "### Pengumpulan Data\n",
        "\n",
        "Dataset diambil dari link:\n",
        "\n",
        "https://archive.ics.uci.edu/dataset/763/land+mines-1\n",
        "\n",
        "Datasset ini berisi data dari remote sensing untuk mendeteksi ranjau darat di Kamboja menggunakan data dari sensor DARPA dan Airborne Standoff Minefield Detection System (ASTAMIDS). Tujuannya untuk klasifikasi antara “ranjau” dan “non-ranjau”."
      ]
    },
    {
      "cell_type": "code",
      "execution_count": 2,
      "metadata": {
        "colab": {
          "base_uri": "https://localhost:8080/"
        },
        "id": "A49rEwCbKTL5",
        "outputId": "0cdc91be-e891-4a6c-c955-274b0be3b795"
      },
      "outputs": [
        {
          "name": "stdout",
          "output_type": "stream",
          "text": [
            "Requirement already satisfied: ucimlrepo in /usr/local/lib/python3.11/dist-packages (0.0.7)\n",
            "Requirement already satisfied: pandas>=1.0.0 in /usr/local/lib/python3.11/dist-packages (from ucimlrepo) (2.2.2)\n",
            "Requirement already satisfied: certifi>=2020.12.5 in /usr/local/lib/python3.11/dist-packages (from ucimlrepo) (2025.6.15)\n",
            "Requirement already satisfied: numpy>=1.23.2 in /usr/local/lib/python3.11/dist-packages (from pandas>=1.0.0->ucimlrepo) (2.0.2)\n",
            "Requirement already satisfied: python-dateutil>=2.8.2 in /usr/local/lib/python3.11/dist-packages (from pandas>=1.0.0->ucimlrepo) (2.9.0.post0)\n",
            "Requirement already satisfied: pytz>=2020.1 in /usr/local/lib/python3.11/dist-packages (from pandas>=1.0.0->ucimlrepo) (2025.2)\n",
            "Requirement already satisfied: tzdata>=2022.7 in /usr/local/lib/python3.11/dist-packages (from pandas>=1.0.0->ucimlrepo) (2025.2)\n",
            "Requirement already satisfied: six>=1.5 in /usr/local/lib/python3.11/dist-packages (from python-dateutil>=2.8.2->pandas>=1.0.0->ucimlrepo) (1.17.0)\n"
          ]
        }
      ],
      "source": [
        "pip install ucimlrepo"
      ]
    },
    {
      "cell_type": "code",
      "execution_count": 3,
      "metadata": {
        "colab": {
          "base_uri": "https://localhost:8080/"
        },
        "id": "sbIQRpDvNI4F",
        "outputId": "15234656-1928-4acc-df14-54fe70f563a9"
      },
      "outputs": [
        {
          "name": "stdout",
          "output_type": "stream",
          "text": [
            "{'uci_id': 763, 'name': 'Land Mines', 'repository_url': 'https://archive.ics.uci.edu/dataset/763/land+mines-1', 'data_url': 'https://archive.ics.uci.edu/static/public/763/data.csv', 'abstract': 'Detection of mines buried in the ground is very important in terms of safety of life and property. Many different methods have been used in this regard; however, it has not yet been possible to achieve 100% success. Mine detection process consists of sensor design, data analysis and decision algorithm phases. The magnetic anomaly method works according to the principle of measuring the anomalies resulting from the object in the magnetic field that disturbs the structure of it, the magnetic field, and the data obtained at this point are used to determine the conditions such as motion and position. The determination of parameters such as position, depth or direction of motion using magnetic anomaly has been carried out since 1970.', 'area': 'Engineering', 'tasks': ['Classification', 'Clustering'], 'characteristics': ['Tabular', 'Multivariate', 'Other'], 'num_instances': 338, 'num_features': 3, 'feature_types': ['Real', 'Integer'], 'demographics': [], 'target_col': ['M'], 'index_col': None, 'has_missing_values': 'no', 'missing_values_symbol': None, 'year_of_dataset_creation': 2018, 'last_updated': 'Thu Mar 07 2024', 'dataset_doi': '10.24432/C54C8Z', 'creators': ['Hamdi Tolga KAHRAMAN'], 'intro_paper': {'ID': 163, 'type': 'NATIVE', 'title': 'Passive Mine Detection and Classification Method Based on Hybrid Model', 'authors': 'C. Yilmaz, H. Kahraman, Salih Söyler', 'venue': 'IEEE Access', 'year': 2018, 'journal': 'IEEE Access', 'DOI': None, 'URL': 'https://www.semanticscholar.org/paper/c70a13956cfeb634a235bc9a5b3398f2000fe68c', 'sha': None, 'corpus': None, 'arxiv': None, 'mag': None, 'acl': None, 'pmid': None, 'pmcid': None}, 'additional_info': {'summary': 'Yilmaz, C., Kahraman, H. T., & Söyler, S. (2018). Passive mine detection and classification method based on hybrid model. IEEE Access, 6, 47870-47888.', 'purpose': 'PhD thesis', 'funded_by': 'Cemal YILMAZ\\nDepartment of Electrical and Electronics Engineering, Gazi University, Ankara, Turkey, cemal@gazi.edu.tr\\n\\nHamdi Tolga Kahraman\\nDepartment of Software Engineering, Karadeniz Technical University, Trabzon,Turkey\\nhtolgakahraman@ktu.edu.tr\\nSalih Soyler\\nInstitute of Science, Gazi University, Ankara, Turkey\\nsalih_sogler@yahoo.com\\n', 'instances_represent': 'Land Mines', 'recommended_data_splits': 'no', 'sensitive_data': 'No', 'preprocessing_description': 'processing of missing', 'variable_info': None, 'citation': 'Yilmaz, C., Kahraman, H. T., & Söyler, S. (2018). Passive mine detection and classification method based on hybrid model. IEEE Access, 6, 47870-47888.'}}\n",
            "  name     role        type demographic  \\\n",
            "0    V  Feature  Continuous        None   \n",
            "1    H  Feature  Continuous        None   \n",
            "2    S  Feature  Continuous        None   \n",
            "3    M   Target     Integer        None   \n",
            "\n",
            "                                         description units missing_values  \n",
            "0  voltage: output voltage value of FLC sensor du...     V             no  \n",
            "1     high: the height of the sensor from the ground    cm             no  \n",
            "2  soil type: 6 different soil types depending on...  None             no  \n",
            "3  mine type: mine types commonly encountered on ...  None             no  \n"
          ]
        }
      ],
      "source": [
        "from ucimlrepo import fetch_ucirepo\n",
        "\n",
        "# fetch dataset\n",
        "land_mines = fetch_ucirepo(id=763)\n",
        "\n",
        "# data (as pandas dataframes)\n",
        "X = land_mines.data.features\n",
        "y = land_mines.data.targets\n",
        "\n",
        "# metadata\n",
        "print(land_mines.metadata)\n",
        "\n",
        "# variable information\n",
        "print(land_mines.variables)\n",
        "\n",
        "# data (as pandas dataframes)\n",
        "data = land_mines.data.original\n",
        "\n",
        "# menyimpan hasil komputasi ke dalam csv\n",
        "data.to_csv(\"land_mines_data.csv\", index=True)\n"
      ]
    },
    {
      "cell_type": "markdown",
      "metadata": {
        "id": "Z7Kqik8UkjfZ"
      },
      "source": [
        "### Eksplorasi Data\n",
        "\n",
        "\n",
        "Mengecek data apakah ada data yang outlier dan mengecek apakah ada missing value data."
      ]
    },
    {
      "cell_type": "code",
      "execution_count": 4,
      "metadata": {
        "colab": {
          "base_uri": "https://localhost:8080/"
        },
        "id": "StUfN3npknwk",
        "outputId": "738c90e7-838a-4979-897f-54cd65dee6ab"
      },
      "outputs": [
        {
          "name": "stdout",
          "output_type": "stream",
          "text": [
            "=== Kolom-kolom Data ===\n",
            "Index(['V', 'H', 'S', 'M'], dtype='object')\n",
            "\n",
            "=== Missing Value per Kolom ===\n",
            "V    0\n",
            "H    0\n",
            "S    0\n",
            "M    0\n",
            "dtype: int64\n",
            "\n",
            "=== Jumlah Outlier per Kolom (IQR) ===\n",
            "V: 32 outliers\n",
            "H: 0 outliers\n",
            "S: 0 outliers\n",
            "M: 0 outliers\n"
          ]
        }
      ],
      "source": [
        "from ucimlrepo import fetch_ucirepo\n",
        "import pandas as pd\n",
        "import numpy as np\n",
        "import seaborn as sns\n",
        "import matplotlib.pyplot as plt\n",
        "\n",
        "# Load dataset Land Mines\n",
        "land_mines = fetch_ucirepo(id=763)\n",
        "df = land_mines.data.original\n",
        "\n",
        "print(\"=== Kolom-kolom Data ===\")\n",
        "print(df.columns)\n",
        "\n",
        "# 1. CEK MISSING VALUE\n",
        "print(\"\\n=== Missing Value per Kolom ===\")\n",
        "print(df.isnull().sum())\n",
        "\n",
        "# 2. CEK OUTLIER\n",
        "\n",
        "def detect_outliers_iqr(data, column):\n",
        "    Q1 = data[column].quantile(0.25)\n",
        "    Q3 = data[column].quantile(0.75)\n",
        "    IQR = Q3 - Q1\n",
        "    lower_bound = Q1 - 1.5 * IQR\n",
        "    upper_bound = Q3 + 1.5 * IQR\n",
        "    outliers = data[(data[column] < lower_bound) | (data[column] > upper_bound)]\n",
        "    return outliers\n",
        "\n",
        "# Cek outlier untuk setiap kolom numerik (kecuali target)\n",
        "print(\"\\n=== Jumlah Outlier per Kolom (IQR) ===\")\n",
        "for col in df.select_dtypes(include=[np.number]).columns:\n",
        "    if col.lower() not in ['target', 'class']:\n",
        "        outliers = detect_outliers_iqr(df, col)\n",
        "        print(f\"{col}: {len(outliers)} outliers\")\n"
      ]
    },
    {
      "cell_type": "markdown",
      "metadata": {
        "id": "Xx0-Yb6Am7CK"
      },
      "source": [
        "Dari output di atas dapat disimpulkan bahwa tidak terdapat missing value pada dataset. Sebagian besar fitur (H, S, dan M) tidak memiliki outlier, menunjukkan distribusi data yang relatif stabil.\n",
        "\n",
        "Namun, fitur V terdeteksi memiliki 32 outlier. Namun nilai-nilai ekstrem ini bisa jadi mewakili kasus khusus atau kondisi yang signifikan, misalnya karakteristik spektral tertentu dari ranjau atau objek lain di lapangan.\n"
      ]
    },
    {
      "cell_type": "markdown",
      "metadata": {
        "id": "ODDayYbwWrPJ"
      },
      "source": [
        "### Visualisasi Data"
      ]
    },
    {
      "cell_type": "markdown",
      "metadata": {
        "id": "92azX3coabwt"
      },
      "source": [
        "**Visualisasi Dataset Land Mines**"
      ]
    },
    {
      "cell_type": "code",
      "execution_count": 5,
      "metadata": {
        "colab": {
          "base_uri": "https://localhost:8080/",
          "height": 441
        },
        "id": "6iAjMGUENagB",
        "outputId": "20577d8e-c437-4d1a-dbbb-70549af428fe"
      },
      "outputs": [
        {
          "name": "stdout",
          "output_type": "stream",
          "text": [
            "Total baris dataset ini adalah = 338\n"
          ]
        },
        {
          "data": {
            "application/vnd.google.colaboratory.intrinsic+json": {
              "summary": "{\n  \"name\": \"data\",\n  \"rows\": 338,\n  \"fields\": [\n    {\n      \"column\": \"V\",\n      \"properties\": {\n        \"dtype\": \"number\",\n        \"std\": 0.1958190262042623,\n        \"min\": 0.197733879,\n        \"max\": 0.999998728,\n        \"num_unique_values\": 196,\n        \"samples\": [\n          0.383685358,\n          0.24220528,\n          0.274924175\n        ],\n        \"semantic_type\": \"\",\n        \"description\": \"\"\n      }\n    },\n    {\n      \"column\": \"H\",\n      \"properties\": {\n        \"dtype\": \"number\",\n        \"std\": 0.30604339137726067,\n        \"min\": 0.0,\n        \"max\": 1.0,\n        \"num_unique_values\": 12,\n        \"samples\": [\n          0.363636364,\n          0.090909091,\n          0.0\n        ],\n        \"semantic_type\": \"\",\n        \"description\": \"\"\n      }\n    },\n    {\n      \"column\": \"S\",\n      \"properties\": {\n        \"dtype\": \"number\",\n        \"std\": 0.3442436324345342,\n        \"min\": 0.0,\n        \"max\": 1.0,\n        \"num_unique_values\": 6,\n        \"samples\": [\n          0.0,\n          0.6,\n          1.0\n        ],\n        \"semantic_type\": \"\",\n        \"description\": \"\"\n      }\n    },\n    {\n      \"column\": \"M\",\n      \"properties\": {\n        \"dtype\": \"number\",\n        \"std\": 1,\n        \"min\": 1,\n        \"max\": 5,\n        \"num_unique_values\": 5,\n        \"samples\": [\n          2,\n          5,\n          3\n        ],\n        \"semantic_type\": \"\",\n        \"description\": \"\"\n      }\n    }\n  ]\n}",
              "type": "dataframe",
              "variable_name": "data"
            },
            "text/html": [
              "\n",
              "  <div id=\"df-094a0436-2c12-4ddb-88c4-7f8aaba55a63\" class=\"colab-df-container\">\n",
              "    <div>\n",
              "<style scoped>\n",
              "    .dataframe tbody tr th:only-of-type {\n",
              "        vertical-align: middle;\n",
              "    }\n",
              "\n",
              "    .dataframe tbody tr th {\n",
              "        vertical-align: top;\n",
              "    }\n",
              "\n",
              "    .dataframe thead th {\n",
              "        text-align: right;\n",
              "    }\n",
              "</style>\n",
              "<table border=\"1\" class=\"dataframe\">\n",
              "  <thead>\n",
              "    <tr style=\"text-align: right;\">\n",
              "      <th></th>\n",
              "      <th>V</th>\n",
              "      <th>H</th>\n",
              "      <th>S</th>\n",
              "      <th>M</th>\n",
              "    </tr>\n",
              "  </thead>\n",
              "  <tbody>\n",
              "    <tr>\n",
              "      <th>0</th>\n",
              "      <td>0.338157</td>\n",
              "      <td>0.000000</td>\n",
              "      <td>0.0</td>\n",
              "      <td>1</td>\n",
              "    </tr>\n",
              "    <tr>\n",
              "      <th>1</th>\n",
              "      <td>0.320241</td>\n",
              "      <td>0.181818</td>\n",
              "      <td>0.0</td>\n",
              "      <td>1</td>\n",
              "    </tr>\n",
              "    <tr>\n",
              "      <th>2</th>\n",
              "      <td>0.287009</td>\n",
              "      <td>0.272727</td>\n",
              "      <td>0.0</td>\n",
              "      <td>1</td>\n",
              "    </tr>\n",
              "    <tr>\n",
              "      <th>3</th>\n",
              "      <td>0.256284</td>\n",
              "      <td>0.454545</td>\n",
              "      <td>0.0</td>\n",
              "      <td>1</td>\n",
              "    </tr>\n",
              "    <tr>\n",
              "      <th>4</th>\n",
              "      <td>0.262840</td>\n",
              "      <td>0.545455</td>\n",
              "      <td>0.0</td>\n",
              "      <td>1</td>\n",
              "    </tr>\n",
              "    <tr>\n",
              "      <th>...</th>\n",
              "      <td>...</td>\n",
              "      <td>...</td>\n",
              "      <td>...</td>\n",
              "      <td>...</td>\n",
              "    </tr>\n",
              "    <tr>\n",
              "      <th>333</th>\n",
              "      <td>0.323262</td>\n",
              "      <td>0.909091</td>\n",
              "      <td>0.4</td>\n",
              "      <td>5</td>\n",
              "    </tr>\n",
              "    <tr>\n",
              "      <th>334</th>\n",
              "      <td>0.444108</td>\n",
              "      <td>0.181818</td>\n",
              "      <td>1.0</td>\n",
              "      <td>5</td>\n",
              "    </tr>\n",
              "    <tr>\n",
              "      <th>335</th>\n",
              "      <td>0.353474</td>\n",
              "      <td>0.454545</td>\n",
              "      <td>1.0</td>\n",
              "      <td>5</td>\n",
              "    </tr>\n",
              "    <tr>\n",
              "      <th>336</th>\n",
              "      <td>0.362537</td>\n",
              "      <td>0.727273</td>\n",
              "      <td>1.0</td>\n",
              "      <td>5</td>\n",
              "    </tr>\n",
              "    <tr>\n",
              "      <th>337</th>\n",
              "      <td>0.314199</td>\n",
              "      <td>1.000000</td>\n",
              "      <td>1.0</td>\n",
              "      <td>5</td>\n",
              "    </tr>\n",
              "  </tbody>\n",
              "</table>\n",
              "<p>338 rows × 4 columns</p>\n",
              "</div>\n",
              "    <div class=\"colab-df-buttons\">\n",
              "\n",
              "  <div class=\"colab-df-container\">\n",
              "    <button class=\"colab-df-convert\" onclick=\"convertToInteractive('df-094a0436-2c12-4ddb-88c4-7f8aaba55a63')\"\n",
              "            title=\"Convert this dataframe to an interactive table.\"\n",
              "            style=\"display:none;\">\n",
              "\n",
              "  <svg xmlns=\"http://www.w3.org/2000/svg\" height=\"24px\" viewBox=\"0 -960 960 960\">\n",
              "    <path d=\"M120-120v-720h720v720H120Zm60-500h600v-160H180v160Zm220 220h160v-160H400v160Zm0 220h160v-160H400v160ZM180-400h160v-160H180v160Zm440 0h160v-160H620v160ZM180-180h160v-160H180v160Zm440 0h160v-160H620v160Z\"/>\n",
              "  </svg>\n",
              "    </button>\n",
              "\n",
              "  <style>\n",
              "    .colab-df-container {\n",
              "      display:flex;\n",
              "      gap: 12px;\n",
              "    }\n",
              "\n",
              "    .colab-df-convert {\n",
              "      background-color: #E8F0FE;\n",
              "      border: none;\n",
              "      border-radius: 50%;\n",
              "      cursor: pointer;\n",
              "      display: none;\n",
              "      fill: #1967D2;\n",
              "      height: 32px;\n",
              "      padding: 0 0 0 0;\n",
              "      width: 32px;\n",
              "    }\n",
              "\n",
              "    .colab-df-convert:hover {\n",
              "      background-color: #E2EBFA;\n",
              "      box-shadow: 0px 1px 2px rgba(60, 64, 67, 0.3), 0px 1px 3px 1px rgba(60, 64, 67, 0.15);\n",
              "      fill: #174EA6;\n",
              "    }\n",
              "\n",
              "    .colab-df-buttons div {\n",
              "      margin-bottom: 4px;\n",
              "    }\n",
              "\n",
              "    [theme=dark] .colab-df-convert {\n",
              "      background-color: #3B4455;\n",
              "      fill: #D2E3FC;\n",
              "    }\n",
              "\n",
              "    [theme=dark] .colab-df-convert:hover {\n",
              "      background-color: #434B5C;\n",
              "      box-shadow: 0px 1px 3px 1px rgba(0, 0, 0, 0.15);\n",
              "      filter: drop-shadow(0px 1px 2px rgba(0, 0, 0, 0.3));\n",
              "      fill: #FFFFFF;\n",
              "    }\n",
              "  </style>\n",
              "\n",
              "    <script>\n",
              "      const buttonEl =\n",
              "        document.querySelector('#df-094a0436-2c12-4ddb-88c4-7f8aaba55a63 button.colab-df-convert');\n",
              "      buttonEl.style.display =\n",
              "        google.colab.kernel.accessAllowed ? 'block' : 'none';\n",
              "\n",
              "      async function convertToInteractive(key) {\n",
              "        const element = document.querySelector('#df-094a0436-2c12-4ddb-88c4-7f8aaba55a63');\n",
              "        const dataTable =\n",
              "          await google.colab.kernel.invokeFunction('convertToInteractive',\n",
              "                                                    [key], {});\n",
              "        if (!dataTable) return;\n",
              "\n",
              "        const docLinkHtml = 'Like what you see? Visit the ' +\n",
              "          '<a target=\"_blank\" href=https://colab.research.google.com/notebooks/data_table.ipynb>data table notebook</a>'\n",
              "          + ' to learn more about interactive tables.';\n",
              "        element.innerHTML = '';\n",
              "        dataTable['output_type'] = 'display_data';\n",
              "        await google.colab.output.renderOutput(dataTable, element);\n",
              "        const docLink = document.createElement('div');\n",
              "        docLink.innerHTML = docLinkHtml;\n",
              "        element.appendChild(docLink);\n",
              "      }\n",
              "    </script>\n",
              "  </div>\n",
              "\n",
              "\n",
              "    <div id=\"df-8870f10b-3f61-4ba5-86cd-6a597d5e8097\">\n",
              "      <button class=\"colab-df-quickchart\" onclick=\"quickchart('df-8870f10b-3f61-4ba5-86cd-6a597d5e8097')\"\n",
              "                title=\"Suggest charts\"\n",
              "                style=\"display:none;\">\n",
              "\n",
              "<svg xmlns=\"http://www.w3.org/2000/svg\" height=\"24px\"viewBox=\"0 0 24 24\"\n",
              "     width=\"24px\">\n",
              "    <g>\n",
              "        <path d=\"M19 3H5c-1.1 0-2 .9-2 2v14c0 1.1.9 2 2 2h14c1.1 0 2-.9 2-2V5c0-1.1-.9-2-2-2zM9 17H7v-7h2v7zm4 0h-2V7h2v10zm4 0h-2v-4h2v4z\"/>\n",
              "    </g>\n",
              "</svg>\n",
              "      </button>\n",
              "\n",
              "<style>\n",
              "  .colab-df-quickchart {\n",
              "      --bg-color: #E8F0FE;\n",
              "      --fill-color: #1967D2;\n",
              "      --hover-bg-color: #E2EBFA;\n",
              "      --hover-fill-color: #174EA6;\n",
              "      --disabled-fill-color: #AAA;\n",
              "      --disabled-bg-color: #DDD;\n",
              "  }\n",
              "\n",
              "  [theme=dark] .colab-df-quickchart {\n",
              "      --bg-color: #3B4455;\n",
              "      --fill-color: #D2E3FC;\n",
              "      --hover-bg-color: #434B5C;\n",
              "      --hover-fill-color: #FFFFFF;\n",
              "      --disabled-bg-color: #3B4455;\n",
              "      --disabled-fill-color: #666;\n",
              "  }\n",
              "\n",
              "  .colab-df-quickchart {\n",
              "    background-color: var(--bg-color);\n",
              "    border: none;\n",
              "    border-radius: 50%;\n",
              "    cursor: pointer;\n",
              "    display: none;\n",
              "    fill: var(--fill-color);\n",
              "    height: 32px;\n",
              "    padding: 0;\n",
              "    width: 32px;\n",
              "  }\n",
              "\n",
              "  .colab-df-quickchart:hover {\n",
              "    background-color: var(--hover-bg-color);\n",
              "    box-shadow: 0 1px 2px rgba(60, 64, 67, 0.3), 0 1px 3px 1px rgba(60, 64, 67, 0.15);\n",
              "    fill: var(--button-hover-fill-color);\n",
              "  }\n",
              "\n",
              "  .colab-df-quickchart-complete:disabled,\n",
              "  .colab-df-quickchart-complete:disabled:hover {\n",
              "    background-color: var(--disabled-bg-color);\n",
              "    fill: var(--disabled-fill-color);\n",
              "    box-shadow: none;\n",
              "  }\n",
              "\n",
              "  .colab-df-spinner {\n",
              "    border: 2px solid var(--fill-color);\n",
              "    border-color: transparent;\n",
              "    border-bottom-color: var(--fill-color);\n",
              "    animation:\n",
              "      spin 1s steps(1) infinite;\n",
              "  }\n",
              "\n",
              "  @keyframes spin {\n",
              "    0% {\n",
              "      border-color: transparent;\n",
              "      border-bottom-color: var(--fill-color);\n",
              "      border-left-color: var(--fill-color);\n",
              "    }\n",
              "    20% {\n",
              "      border-color: transparent;\n",
              "      border-left-color: var(--fill-color);\n",
              "      border-top-color: var(--fill-color);\n",
              "    }\n",
              "    30% {\n",
              "      border-color: transparent;\n",
              "      border-left-color: var(--fill-color);\n",
              "      border-top-color: var(--fill-color);\n",
              "      border-right-color: var(--fill-color);\n",
              "    }\n",
              "    40% {\n",
              "      border-color: transparent;\n",
              "      border-right-color: var(--fill-color);\n",
              "      border-top-color: var(--fill-color);\n",
              "    }\n",
              "    60% {\n",
              "      border-color: transparent;\n",
              "      border-right-color: var(--fill-color);\n",
              "    }\n",
              "    80% {\n",
              "      border-color: transparent;\n",
              "      border-right-color: var(--fill-color);\n",
              "      border-bottom-color: var(--fill-color);\n",
              "    }\n",
              "    90% {\n",
              "      border-color: transparent;\n",
              "      border-bottom-color: var(--fill-color);\n",
              "    }\n",
              "  }\n",
              "</style>\n",
              "\n",
              "      <script>\n",
              "        async function quickchart(key) {\n",
              "          const quickchartButtonEl =\n",
              "            document.querySelector('#' + key + ' button');\n",
              "          quickchartButtonEl.disabled = true;  // To prevent multiple clicks.\n",
              "          quickchartButtonEl.classList.add('colab-df-spinner');\n",
              "          try {\n",
              "            const charts = await google.colab.kernel.invokeFunction(\n",
              "                'suggestCharts', [key], {});\n",
              "          } catch (error) {\n",
              "            console.error('Error during call to suggestCharts:', error);\n",
              "          }\n",
              "          quickchartButtonEl.classList.remove('colab-df-spinner');\n",
              "          quickchartButtonEl.classList.add('colab-df-quickchart-complete');\n",
              "        }\n",
              "        (() => {\n",
              "          let quickchartButtonEl =\n",
              "            document.querySelector('#df-8870f10b-3f61-4ba5-86cd-6a597d5e8097 button');\n",
              "          quickchartButtonEl.style.display =\n",
              "            google.colab.kernel.accessAllowed ? 'block' : 'none';\n",
              "        })();\n",
              "      </script>\n",
              "    </div>\n",
              "\n",
              "  <div id=\"id_c17c9b00-68b3-4d41-be4b-bfc981333c60\">\n",
              "    <style>\n",
              "      .colab-df-generate {\n",
              "        background-color: #E8F0FE;\n",
              "        border: none;\n",
              "        border-radius: 50%;\n",
              "        cursor: pointer;\n",
              "        display: none;\n",
              "        fill: #1967D2;\n",
              "        height: 32px;\n",
              "        padding: 0 0 0 0;\n",
              "        width: 32px;\n",
              "      }\n",
              "\n",
              "      .colab-df-generate:hover {\n",
              "        background-color: #E2EBFA;\n",
              "        box-shadow: 0px 1px 2px rgba(60, 64, 67, 0.3), 0px 1px 3px 1px rgba(60, 64, 67, 0.15);\n",
              "        fill: #174EA6;\n",
              "      }\n",
              "\n",
              "      [theme=dark] .colab-df-generate {\n",
              "        background-color: #3B4455;\n",
              "        fill: #D2E3FC;\n",
              "      }\n",
              "\n",
              "      [theme=dark] .colab-df-generate:hover {\n",
              "        background-color: #434B5C;\n",
              "        box-shadow: 0px 1px 3px 1px rgba(0, 0, 0, 0.15);\n",
              "        filter: drop-shadow(0px 1px 2px rgba(0, 0, 0, 0.3));\n",
              "        fill: #FFFFFF;\n",
              "      }\n",
              "    </style>\n",
              "    <button class=\"colab-df-generate\" onclick=\"generateWithVariable('data')\"\n",
              "            title=\"Generate code using this dataframe.\"\n",
              "            style=\"display:none;\">\n",
              "\n",
              "  <svg xmlns=\"http://www.w3.org/2000/svg\" height=\"24px\"viewBox=\"0 0 24 24\"\n",
              "       width=\"24px\">\n",
              "    <path d=\"M7,19H8.4L18.45,9,17,7.55,7,17.6ZM5,21V16.75L18.45,3.32a2,2,0,0,1,2.83,0l1.4,1.43a1.91,1.91,0,0,1,.58,1.4,1.91,1.91,0,0,1-.58,1.4L9.25,21ZM18.45,9,17,7.55Zm-12,3A5.31,5.31,0,0,0,4.9,8.1,5.31,5.31,0,0,0,1,6.5,5.31,5.31,0,0,0,4.9,4.9,5.31,5.31,0,0,0,6.5,1,5.31,5.31,0,0,0,8.1,4.9,5.31,5.31,0,0,0,12,6.5,5.46,5.46,0,0,0,6.5,12Z\"/>\n",
              "  </svg>\n",
              "    </button>\n",
              "    <script>\n",
              "      (() => {\n",
              "      const buttonEl =\n",
              "        document.querySelector('#id_c17c9b00-68b3-4d41-be4b-bfc981333c60 button.colab-df-generate');\n",
              "      buttonEl.style.display =\n",
              "        google.colab.kernel.accessAllowed ? 'block' : 'none';\n",
              "\n",
              "      buttonEl.onclick = () => {\n",
              "        google.colab.notebook.generateWithVariable('data');\n",
              "      }\n",
              "      })();\n",
              "    </script>\n",
              "  </div>\n",
              "\n",
              "    </div>\n",
              "  </div>\n"
            ],
            "text/plain": [
              "            V         H    S  M\n",
              "0    0.338157  0.000000  0.0  1\n",
              "1    0.320241  0.181818  0.0  1\n",
              "2    0.287009  0.272727  0.0  1\n",
              "3    0.256284  0.454545  0.0  1\n",
              "4    0.262840  0.545455  0.0  1\n",
              "..        ...       ...  ... ..\n",
              "333  0.323262  0.909091  0.4  5\n",
              "334  0.444108  0.181818  1.0  5\n",
              "335  0.353474  0.454545  1.0  5\n",
              "336  0.362537  0.727273  1.0  5\n",
              "337  0.314199  1.000000  1.0  5\n",
              "\n",
              "[338 rows x 4 columns]"
            ]
          },
          "metadata": {},
          "output_type": "display_data"
        }
      ],
      "source": [
        "import pandas as pd\n",
        "\n",
        "# Gabungkan fitur (X) dan target (y)\n",
        "df_landmines = pd.concat([X, y], axis=1)\n",
        "\n",
        "# Tampilkan jumlah total baris dalam dataset\n",
        "print(\"Total baris dataset ini adalah =\", len(df_landmines))\n",
        "\n",
        "# Tampilkan data asli (original)\n",
        "display(data)\n"
      ]
    },
    {
      "cell_type": "markdown",
      "metadata": {
        "id": "hnJkj1wMaVo_"
      },
      "source": [
        "**Visualisasi Jumlah Sample Per kelas Land Mines**"
      ]
    },
    {
      "cell_type": "code",
      "execution_count": 6,
      "metadata": {
        "colab": {
          "base_uri": "https://localhost:8080/",
          "height": 688
        },
        "id": "XD8Ir74mbR3Y",
        "outputId": "852c48b5-8289-4802-97a7-4b6884821f6e"
      },
      "outputs": [
        {
          "name": "stdout",
          "output_type": "stream",
          "text": [
            "Nama kolom target: Index(['M'], dtype='object')\n"
          ]
        },
        {
          "name": "stderr",
          "output_type": "stream",
          "text": [
            "/tmp/ipython-input-6-1830411616.py:21: FutureWarning: \n",
            "\n",
            "Passing `palette` without assigning `hue` is deprecated and will be removed in v0.14.0. Assign the `x` variable to `hue` and set `legend=False` for the same effect.\n",
            "\n",
            "  sns.countplot(x=y.columns[0], data=df_landmines, palette='viridis')\n"
          ]
        },
        {
          "data": {
            "image/png": "[encoded data removed]",
            "text/plain": [
              "<Figure size 800x600 with 1 Axes>"
            ]
          },
          "metadata": {},
          "output_type": "display_data"
        }
      ],
      "source": [
        "import pandas as pd\n",
        "import seaborn as sns\n",
        "import matplotlib.pyplot as plt\n",
        "from ucimlrepo import fetch_ucirepo\n",
        "\n",
        "# Load dataset Land Mines\n",
        "land_mines = fetch_ucirepo(id=763)\n",
        "\n",
        "# Ambil data fitur dan target\n",
        "X = land_mines.data.features\n",
        "y = land_mines.data.targets\n",
        "\n",
        "# Gabungkan fitur dan target menjadi satu DataFrame\n",
        "df_landmines = pd.concat([X, y], axis=1)\n",
        "\n",
        "# Cek nama kolom target\n",
        "print(\"Nama kolom target:\", y.columns)\n",
        "\n",
        "# Visualisasi jumlah sampel per kelas\n",
        "plt.figure(figsize=(8, 6))\n",
        "sns.countplot(x=y.columns[0], data=df_landmines, palette='viridis')\n",
        "plt.title('Jumlah Sampel per Kelas (Ranjau vs Non-Ranjau)')\n",
        "plt.xlabel('Kelas')\n",
        "plt.ylabel('Jumlah Sampel')\n",
        "plt.show()\n"
      ]
    },
    {
      "cell_type": "markdown",
      "metadata": {
        "id": "wZnkPOgmbVDU"
      },
      "source": [
        "**Visualisasi Distribusi Fitur dengan Histogram**"
      ]
    },
    {
      "cell_type": "code",
      "execution_count": 7,
      "metadata": {
        "colab": {
          "base_uri": "https://localhost:8080/",
          "height": 799
        },
        "id": "HPjBbDwIc3sp",
        "outputId": "6e35cc7e-a472-4935-b943-aacab0213f3e"
      },
      "outputs": [
        {
          "data": {
            "text/plain": [
              "<Figure size 1200x1000 with 0 Axes>"
            ]
          },
          "metadata": {},
          "output_type": "display_data"
        },
        {
          "data": {
            "image/png": "[encoded data removed]",
            "text/plain": [
              "<Figure size 1500x1000 with 4 Axes>"
            ]
          },
          "metadata": {},
          "output_type": "display_data"
        }
      ],
      "source": [
        "plt.figure(figsize=(12, 10))\n",
        "df_landmines.drop(columns=y.columns[0]).hist(bins=30, figsize=(15, 10), color='blue')\n",
        "plt.suptitle('Distribusi Fitur Dataset Land Mines')\n",
        "plt.tight_layout()\n",
        "plt.show()\n"
      ]
    },
    {
      "cell_type": "markdown",
      "metadata": {
        "id": "z36n_pMbmQk7"
      },
      "source": [
        "**Visualisasi Boxplot untuk Deteksi Outlier**\n",
        "\n"
      ]
    },
    {
      "cell_type": "code",
      "execution_count": 8,
      "metadata": {
        "colab": {
          "base_uri": "https://localhost:8080/",
          "height": 592
        },
        "id": "JraU-QtPmYsW",
        "outputId": "a3d9312e-3253-4ed7-bb01-6fd4fd538df7"
      },
      "outputs": [
        {
          "data": {
            "image/png": "[encoded data removed]",
            "text/plain": [
              "<Figure size 1600x800 with 1 Axes>"
            ]
          },
          "metadata": {},
          "output_type": "display_data"
        }
      ],
      "source": [
        "plt.figure(figsize=(16, 8))\n",
        "df_landmines.drop(columns=y.columns[0]).boxplot(rot=90)\n",
        "plt.title(\"Boxplot untuk Deteksi Outlier pada Dataset Land Mines\")\n",
        "plt.tight_layout()\n",
        "plt.show()\n"
      ]
    },
    {
      "cell_type": "markdown",
      "metadata": {
        "id": "lvDatafRWcGp"
      },
      "source": [
        "### Penjelasan Fitur dan Variabel\n",
        "\n",
        "#### Dataset Land Mines Sensor ASTAMIDS\n",
        "\n",
        "Dataset ini berisi data hasil penginderaan jauh (remote sensing) menggunakan sistem sensor **ASTAMIDS** (Airborne Standoff Minefield Detection System) yang digunakan untuk mendeteksi keberadaan **ranjau darat**. Data dikumpulkan dari wilayah konflik di Kamboja dan terdiri dari fitur-fitur numerik yang mewakili sinyal spektral dari berbagai jenis objek di permukaan tanah. Tujuan utama dari dataset ini adalah untuk **mengklasifikasikan apakah suatu objek merupakan ranjau atau bukan**.\n",
        "\n",
        "#### Variabel Independen (Fitur)\n",
        "\n",
        "| Nama Fitur | Tipe Data | Kategori | Deskripsi                                                                 |\n",
        "|------------|-----------|----------|---------------------------------------------------------------------------|\n",
        "| `V`        | float64   | Numerik  | Representasi nilai spektral vertikal (vertical polarization reflectance) |\n",
        "| `H`        | float64   | Numerik  | Representasi nilai spektral horizontal (horizontal polarization reflectance) |\n",
        "| `S`        | float64   | Numerik  | Nilai spektral dari kombinasi sinyal spektrum (spectral signature)       |\n",
        "| `M`        | float64   | Numerik  | Metode gabungan fitur (kemungkinan magnitude atau kombinasi sinyal spektral) |\n",
        "\n",
        "#### Variabel Dependen (Label / Target Output)\n",
        "\n",
        "| Nama     | Tipe Data | Tipe Kategori     | Deskripsi                                                                 |\n",
        "|----------|-----------|-------------------|---------------------------------------------------------------------------|\n",
        "| `class`  | int64     | Kategorikal Biner | Label klasifikasi objek: <br>0 = Non-Mine (bukan ranjau)<br>1 = Mine (ranjau darat terdeteksi) |\n",
        "\n"
      ]
    },
    {
      "cell_type": "code",
      "execution_count": 9,
      "metadata": {
        "colab": {
          "base_uri": "https://localhost:8080/"
        },
        "id": "RZ_Kl0-3aC2c",
        "outputId": "86ea7adf-e755-4b16-db55-ed65d909fe11"
      },
      "outputs": [
        {
          "data": {
            "text/plain": [
              "(338, 4)"
            ]
          },
          "execution_count": 9,
          "metadata": {},
          "output_type": "execute_result"
        }
      ],
      "source": [
        "data.shape"
      ]
    },
    {
      "cell_type": "markdown",
      "metadata": {
        "id": "al5EtPxOaM5m"
      },
      "source": [
        "Terdapat 338 baris dan 4 kolom pada dataset Land Mines"
      ]
    },
    {
      "cell_type": "markdown",
      "metadata": {
        "id": "nJabjNnPdE0_"
      },
      "source": [
        "## Preprocessing Data"
      ]
    },
    {
      "cell_type": "markdown",
      "metadata": {
        "id": "1ZqJVYKDdg-2"
      },
      "source": [
        "### Transformasi Data\n",
        "\n",
        "Dataset Land Mines memiliki label kelas pada kolom class yang berupa angka 0 dan 1, yang masing-masing mewakili dua kategori objek: bukan ranjau (non-mine) dan ranjau darat (mine). Angka-angka tersebut adalah representasi numerik dari dua kelas berbeda dalam konteks klasifikasi biner.\n",
        "\n",
        "Untuk mempermudah interpretasi hasil klasifikasi dan visualisasi, label numerik pada kolom class diubah menjadi label kategorikal, yaitu:\n",
        "\n",
        "0 → Non-Mine\n",
        "\n",
        "1 → Mine\n",
        "\n"
      ]
    },
    {
      "cell_type": "code",
      "execution_count": 10,
      "metadata": {
        "colab": {
          "base_uri": "https://localhost:8080/"
        },
        "id": "X5QWAN6NdKDW",
        "outputId": "a03a4a79-f72b-4fbe-f741-06fb9a849d1d"
      },
      "outputs": [
        {
          "name": "stdout",
          "output_type": "stream",
          "text": [
            "Nama kolom target: M\n"
          ]
        }
      ],
      "source": [
        "from ucimlrepo import fetch_ucirepo\n",
        "import pandas as pd\n",
        "\n",
        "# Ambil dataset Land Mines\n",
        "land_mines = fetch_ucirepo(id=763)\n",
        "\n",
        "# Buat DataFrame awal\n",
        "data_before = pd.concat([land_mines.data.features, land_mines.data.targets], axis=1)\n",
        "\n",
        "# Tampilkan nama kolom target\n",
        "print(\"Nama kolom target:\", land_mines.data.targets.columns[0])\n",
        "\n",
        "# Ubah target numerik menjadi label kelas\n",
        "# 0 = Non-Mine, 1 = Mine\n",
        "target_mapping = {0: 'Non-Mine', 1: 'Mine'}\n",
        "target_col = land_mines.data.targets.columns[0]\n",
        "data_before[target_col] = data_before[target_col].replace(target_mapping)\n",
        "pd.set_option('display.expand_frame_repr', False)\n",
        "\n",
        "# Tampilkan data hasil transformasi\n",
        "# print(data_before)\n"
      ]
    },
    {
      "cell_type": "markdown",
      "metadata": {
        "id": "acSrac9frYlt"
      },
      "source": [
        "### Normalisai Data\n",
        "\n",
        "Normalisasi datase menggunakan StandarScaler"
      ]
    },
    {
      "cell_type": "code",
      "execution_count": 11,
      "metadata": {
        "id": "8ITRwO7UvkAR"
      },
      "outputs": [],
      "source": [
        "from sklearn.preprocessing import LabelEncoder, StandardScaler\n",
        "\n",
        "# Gabungkan fitur dan target menjadi satu DataFrame\n",
        "df = pd.concat([X, y], axis=1)\n",
        "\n",
        "# Tampilkan nama kolom target\n",
        "target_col = y.columns[0]\n",
        "\n",
        "# Encode kolom target (label klasifikasi: Non-Mine, Mine → 0, 1)\n",
        "le = LabelEncoder()\n",
        "df[target_col] = le.fit_transform(df[target_col])  # Non-Mine → 0, Mine → 1\n",
        "\n",
        "# Pisahkan fitur dan label\n",
        "X = df.drop(columns=target_col)  # fitur numerik\n",
        "y = df[target_col]               # label klasifikasi\n",
        "\n",
        "# Scaling (standarisasi fitur)\n",
        "scaler = StandardScaler()\n",
        "X_scaled = scaler.fit_transform(X)\n"
      ]
    },
    {
      "cell_type": "markdown",
      "metadata": {
        "id": "G4UOlYTvuqZb"
      },
      "source": [
        "### Split Data Training dan Testing"
      ]
    },
    {
      "cell_type": "code",
      "execution_count": 12,
      "metadata": {
        "id": "VunDf-_2w0g-"
      },
      "outputs": [],
      "source": [
        "from sklearn.model_selection import train_test_split\n",
        "\n",
        "# Split data menjadi data latih dan data uji\n",
        "X_train, X_test, y_train, y_test = train_test_split(\n",
        "    X_scaled,      # fitur yang sudah di-scaling\n",
        "    y,             # label target (0 = Non-Mine, 1 = Mine)\n",
        "    test_size=0.2, # 20% data untuk pengujian\n",
        "    random_state=42\n",
        ")\n"
      ]
    },
    {
      "cell_type": "markdown",
      "metadata": {
        "id": "VMR3gTKbuv7H"
      },
      "source": [
        "### Visualisasi Data Setelah Preprocessing"
      ]
    },
    {
      "cell_type": "code",
      "execution_count": 13,
      "metadata": {
        "colab": {
          "base_uri": "https://localhost:8080/"
        },
        "id": "HpHoEu8myqKp",
        "outputId": "2f380f05-7ce1-4963-e93d-506db948aa94"
      },
      "outputs": [
        {
          "name": "stdout",
          "output_type": "stream",
          "text": [
            "Total baris dataset ini adalah = 338\n",
            "Visualisasi dataset Land Mines setelah digabung dengan label target:\n",
            "       V        H   S  M\n",
            "0.338157 0.000000 0.0  0\n",
            "0.320241 0.181818 0.0  0\n",
            "0.287009 0.272727 0.0  0\n",
            "0.256284 0.454545 0.0  0\n",
            "0.262840 0.545455 0.0  0\n",
            "0.240966 0.727273 0.0  0\n",
            "0.254410 0.818182 0.0  0\n",
            "0.234924 1.000000 0.0  0\n",
            "0.353474 0.000000 0.6  0\n",
            "0.335347 0.181818 0.6  0\n",
            "0.335347 0.272727 0.6  0\n",
            "0.330030 0.454545 0.6  0\n",
            "0.335347 0.545455 0.6  0\n",
            "0.305136 0.727273 0.6  0\n",
            "0.256284 0.818182 0.6  0\n",
            "0.235649 1.000000 0.6  0\n",
            "0.315347 0.000000 0.2  0\n",
            "0.283988 0.181818 0.2  0\n",
            "0.303262 0.272727 0.2  0\n",
            "0.274924 0.454545 0.2  0\n",
            "0.260030 0.545455 0.2  0\n",
            "0.259818 0.727273 0.2  0\n",
            "0.283988 0.818182 0.2  0\n",
            "0.265861 1.000000 0.2  0\n",
            "0.323051 0.000000 0.8  0\n",
            "0.305136 0.181818 0.8  0\n",
            "0.314199 0.272727 0.8  0\n",
            "0.302114 0.454545 0.8  0\n",
            "0.323262 0.545455 0.8  0\n",
            "0.314199 0.727273 0.8  0\n",
            "0.323262 0.818182 0.8  0\n",
            "0.274199 1.000000 0.8  0\n",
            "0.347432 0.000000 0.4  0\n",
            "0.341692 0.181818 0.4  0\n",
            "0.296072 0.272727 0.4  0\n",
            "0.310399 0.454545 0.4  0\n",
            "0.296072 0.545455 0.4  0\n",
            "0.317432 0.727273 0.4  0\n",
            "0.329305 0.818182 0.4  0\n",
            "0.308157 1.000000 0.4  0\n",
            "0.338368 0.000000 1.0  0\n",
            "0.295015 0.181818 1.0  0\n",
            "0.271994 0.272727 1.0  0\n",
            "0.271903 0.454545 1.0  0\n",
            "0.292205 0.545455 1.0  0\n",
            "0.285347 0.727273 1.0  0\n",
            "0.302114 0.909091 1.0  0\n",
            "0.999999 0.000000 0.0  1\n",
            "0.999999 0.090909 0.0  1\n",
            "0.999999 0.272727 0.0  1\n",
            "0.906343 0.363636 0.0  1\n",
            "0.658609 0.545455 0.0  1\n",
            "0.610271 0.636364 0.0  1\n",
            "0.453172 0.818182 0.0  1\n",
            "0.442447 0.909091 0.0  1\n",
            "0.999999 0.000000 0.6  1\n",
            "0.999999 0.090909 0.6  1\n",
            "0.975830 0.272727 0.6  1\n",
            "0.815709 0.363636 0.6  1\n",
            "0.655588 0.545455 0.6  1\n",
            "0.628398 0.636364 0.6  1\n",
            "0.504531 0.818182 0.6  1\n",
            "0.474320 0.909091 0.6  1\n",
            "0.719032 0.000000 0.2  1\n",
            "0.622356 0.090909 0.2  1\n",
            "0.531721 0.272727 0.2  1\n",
            "0.504531 0.363636 0.2  1\n",
            "0.438066 0.545455 0.2  1\n",
            "0.398791 0.636364 0.2  1\n",
            "0.362537 0.818182 0.2  1\n",
            "0.999999 0.000000 0.8  1\n",
            "0.912386 0.181818 0.8  1\n",
            "0.957703 0.272727 0.8  1\n",
            "0.758307 0.454545 0.8  1\n",
            "0.734138 0.545455 0.8  1\n",
            "0.495256 0.727273 0.8  1\n",
            "0.468277 0.818182 0.8  1\n",
            "0.467341 1.000000 0.8  1\n",
            "0.999999 0.000000 0.4  1\n",
            "0.999999 0.181818 0.4  1\n",
            "0.999999 0.272727 0.4  1\n",
            "0.999999 0.454545 0.4  1\n",
            "0.999999 0.545455 0.4  1\n",
            "0.854984 0.727273 0.4  1\n",
            "0.628398 0.818182 0.4  1\n",
            "0.549848 1.000000 0.4  1\n",
            "0.999999 0.000000 1.0  1\n",
            "0.891238 0.181818 1.0  1\n",
            "0.999999 0.272727 1.0  1\n",
            "0.809667 0.454545 1.0  1\n",
            "0.716011 0.545455 1.0  1\n",
            "0.507552 0.727273 1.0  1\n",
            "0.549848 0.818182 1.0  1\n",
            "0.444108 1.000000 1.0  1\n",
            "0.389305 0.000000 0.0  2\n",
            "0.365347 0.181818 0.0  2\n",
            "0.368580 0.272727 0.0  2\n",
            "0.338157 0.454545 0.0  2\n",
            "0.317220 0.545455 0.0  2\n",
            "0.319093 0.727273 0.0  2\n",
            "0.335347 0.818182 0.0  2\n",
            "0.303262 1.000000 0.0  2\n",
            "0.613292 0.181818 0.6  2\n",
            "0.425981 0.363636 0.6  2\n",
            "0.384622 0.454545 0.6  2\n",
            "0.356495 0.636364 0.6  2\n",
            "0.350685 0.727273 0.6  2\n",
            "0.338368 0.909091 0.6  2\n",
            "0.344410 1.000000 0.6  2\n",
            "0.444108 0.090909 0.2  2\n",
            "0.389728 0.181818 0.2  2\n",
            "0.356495 0.363636 0.2  2\n",
            "0.353474 0.454545 0.2  2\n",
            "0.356495 0.636364 0.2  2\n",
            "0.314199 0.727273 0.2  2\n",
            "0.253776 0.909091 0.2  2\n",
            "0.574017 0.000000 0.8  2\n",
            "0.477341 0.181818 0.8  2\n",
            "0.483383 0.272727 0.8  2\n",
            "0.407855 0.454545 0.8  2\n",
            "0.386707 0.545455 0.8  2\n",
            "0.389728 0.727273 0.8  2\n",
            "0.365558 0.818182 0.8  2\n",
            "0.326284 1.000000 0.8  2\n",
            "0.664652 0.181818 0.4  2\n",
            "0.510573 0.363636 0.4  2\n",
            "0.483383 0.454545 0.4  2\n",
            "0.395770 0.636364 0.4  2\n",
            "0.362537 0.727273 0.4  2\n",
            "0.352749 0.909091 0.4  2\n",
            "0.352960 1.000000 0.4  2\n",
            "0.561933 0.181818 1.0  2\n",
            "0.586102 0.272727 1.0  2\n",
            "0.489425 0.454545 1.0  2\n",
            "0.425981 0.545455 1.0  2\n",
            "0.350453 0.727273 1.0  2\n",
            "0.335347 0.818182 1.0  2\n",
            "0.306495 1.000000 1.0  2\n",
            "0.513595 0.090909 0.0  3\n",
            "0.407855 0.272727 0.0  3\n",
            "0.389728 0.363636 0.0  3\n",
            "0.338368 0.545455 0.0  3\n",
            "0.353474 0.636364 0.0  3\n",
            "0.368580 0.818182 0.0  3\n",
            "0.362537 0.909091 0.0  3\n",
            "0.501510 0.000000 0.6  3\n",
            "0.441087 0.090909 0.6  3\n",
            "0.404833 0.363636 0.6  3\n",
            "0.377643 0.454545 0.6  3\n",
            "0.347432 0.636364 0.6  3\n",
            "0.330664 0.727273 0.6  3\n",
            "0.329305 0.909091 0.6  3\n",
            "0.309516 1.000000 0.6  3\n",
            "0.531721 0.181818 0.2  3\n",
            "0.504531 0.272727 0.2  3\n",
            "0.438066 0.454545 0.2  3\n",
            "0.398791 0.545455 0.2  3\n",
            "0.362537 0.727273 0.2  3\n",
            "0.314199 0.818182 0.2  3\n",
            "0.329305 1.000000 0.2  3\n",
            "0.281252 0.000000 0.8  3\n",
            "0.273867 0.181818 0.8  3\n",
            "0.256465 0.272727 0.8  3\n",
            "0.227522 0.454545 0.8  3\n",
            "0.235649 0.545455 0.8  3\n",
            "0.207945 0.727273 0.8  3\n",
            "0.197734 0.818182 0.8  3\n",
            "0.242205 0.090909 0.4  3\n",
            "0.240332 0.181818 0.4  3\n",
            "0.262840 0.454545 0.4  3\n",
            "0.255861 0.545455 0.4  3\n",
            "0.233988 0.727273 0.4  3\n",
            "0.213097 0.818182 0.4  3\n",
            "0.234924 1.000000 0.4  3\n",
            "0.592144 0.000000 1.0  3\n",
            "0.416918 0.181818 1.0  3\n",
            "0.422960 0.272727 1.0  3\n",
            "0.407855 0.454545 1.0  3\n",
            "0.332326 0.545455 1.0  3\n",
            "0.329305 0.727273 1.0  3\n",
            "0.365558 0.818182 1.0  3\n",
            "0.329305 1.000000 1.0  3\n",
            "0.583081 0.000000 0.0  4\n",
            "0.311178 0.181818 0.0  4\n",
            "0.277945 0.272727 0.0  4\n",
            "0.335347 0.454545 0.0  4\n",
            "0.229607 0.545455 0.0  4\n",
            "0.290030 0.727273 0.0  4\n",
            "0.302114 0.818182 0.0  4\n",
            "0.314199 1.000000 0.0  4\n",
            "0.558912 0.000000 0.6  4\n",
            "0.501510 0.181818 0.6  4\n",
            "0.534743 0.272727 0.6  4\n",
            "0.489425 0.454545 0.6  4\n",
            "0.443806 0.545455 0.6  4\n",
            "0.389728 0.727273 0.6  4\n",
            "0.395045 0.818182 0.6  4\n",
            "0.365558 1.000000 0.6  4\n",
            "0.422960 0.181818 0.2  4\n",
            "0.347432 0.545455 0.2  4\n",
            "0.332326 0.636364 0.2  4\n",
            "0.296072 0.909091 0.2  4\n",
            "0.332326 1.000000 0.2  4\n",
            "0.419184 0.090909 0.8  4\n",
            "0.422840 0.181818 0.8  4\n",
            "0.378368 0.363636 0.8  4\n",
            "0.371601 0.454545 0.8  4\n",
            "0.348791 0.636364 0.8  4\n",
            "0.353685 0.727273 0.8  4\n",
            "0.323262 0.909091 0.8  4\n",
            "0.295347 1.000000 0.8  4\n",
            "0.471299 0.181818 0.4  4\n",
            "0.444108 0.272727 0.4  4\n",
            "0.383685 0.454545 0.4  4\n",
            "0.350876 0.545455 0.4  4\n",
            "0.341389 0.727273 0.4  4\n",
            "0.341389 0.818182 0.4  4\n",
            "0.296072 1.000000 0.4  4\n",
            "0.495468 0.090909 1.0  4\n",
            "0.410876 0.272727 1.0  4\n",
            "0.371601 0.363636 1.0  4\n",
            "0.323262 0.545455 1.0  4\n",
            "0.302114 0.636364 1.0  4\n",
            "0.350453 0.818182 1.0  4\n",
            "0.308157 0.909091 1.0  4\n",
            "0.320241 0.090909 0.0  0\n",
            "0.268882 0.363636 0.0  0\n",
            "0.250241 0.636364 0.0  0\n",
            "0.253776 0.909091 0.0  0\n",
            "0.365861 0.090909 0.6  0\n",
            "0.326072 0.363636 0.6  0\n",
            "0.293776 0.636364 0.6  0\n",
            "0.244713 0.909091 0.6  0\n",
            "0.296586 0.090909 0.2  0\n",
            "0.274713 0.363636 0.2  0\n",
            "0.280966 0.636364 0.2  0\n",
            "0.229607 0.909091 0.2  0\n",
            "0.317009 0.090909 0.8  0\n",
            "0.314199 0.363636 0.8  0\n",
            "0.305136 0.636364 0.8  0\n",
            "0.296072 0.909091 0.8  0\n",
            "0.338368 0.090909 0.4  0\n",
            "0.302114 0.363636 0.4  0\n",
            "0.332326 0.636364 0.4  0\n",
            "0.302114 0.909091 0.4  0\n",
            "0.290030 0.090909 1.0  0\n",
            "0.259093 0.363636 1.0  0\n",
            "0.288368 0.636364 1.0  0\n",
            "0.287009 1.000000 1.0  0\n",
            "0.999999 0.181818 0.0  1\n",
            "0.788519 0.454545 0.0  1\n",
            "0.586102 0.727273 0.0  1\n",
            "0.439214 1.000000 0.0  1\n",
            "0.999999 0.181818 0.6  1\n",
            "0.725075 0.454545 0.6  1\n",
            "0.534743 0.727273 0.6  1\n",
            "0.450151 1.000000 0.6  1\n",
            "0.513595 0.181818 0.2  1\n",
            "0.480362 0.454545 0.2  1\n",
            "0.371601 0.727273 0.2  1\n",
            "0.999999 0.090909 0.8  1\n",
            "0.712990 0.363636 0.8  1\n",
            "0.628398 0.636364 0.8  1\n",
            "0.483383 0.909091 0.8  1\n",
            "0.999999 0.090909 0.4  1\n",
            "0.999999 0.363636 0.4  1\n",
            "0.851963 0.636364 0.4  1\n",
            "0.592144 0.909091 0.4  1\n",
            "0.993956 0.090909 1.0  1\n",
            "0.779455 0.363636 1.0  1\n",
            "0.655588 0.636364 1.0  1\n",
            "0.444108 0.909091 1.0  1\n",
            "0.374622 0.090909 0.0  2\n",
            "0.344410 0.363636 0.0  2\n",
            "0.315558 0.636364 0.0  2\n",
            "0.303685 0.909091 0.0  2\n",
            "0.492447 0.272727 0.6  2\n",
            "0.374707 0.545455 0.6  2\n",
            "0.356072 0.818182 0.6  2\n",
            "0.534743 0.000000 0.2  2\n",
            "0.395770 0.272727 0.2  2\n",
            "0.353474 0.545455 0.2  2\n",
            "0.280966 0.818182 0.2  2\n",
            "0.480362 0.090909 0.8  2\n",
            "0.432024 0.363636 0.8  2\n",
            "0.271903 0.636364 0.8  2\n",
            "0.302114 0.909091 0.8  2\n",
            "0.549848 0.272727 0.4  2\n",
            "0.416918 0.545455 0.4  2\n",
            "0.380664 0.818182 0.4  2\n",
            "0.752265 0.090909 1.0  2\n",
            "0.522658 0.363636 1.0  2\n",
            "0.404833 0.636364 1.0  2\n",
            "0.311178 0.909091 1.0  2\n",
            "0.471299 0.181818 0.0  3\n",
            "0.380664 0.454545 0.0  3\n",
            "0.308157 0.727273 0.0  3\n",
            "0.359516 1.000000 0.0  3\n",
            "0.423474 0.181818 0.6  3\n",
            "0.359516 0.545455 0.6  3\n",
            "0.333685 0.818182 0.6  3\n",
            "0.513595 0.090909 0.2  3\n",
            "0.480362 0.363636 0.2  3\n",
            "0.371601 0.636364 0.2  3\n",
            "0.326284 0.909091 0.2  3\n",
            "0.271782 0.090909 0.8  3\n",
            "0.241994 0.363636 0.8  3\n",
            "0.227009 0.636364 0.8  3\n",
            "0.263776 0.000000 0.4  3\n",
            "0.223565 0.272727 0.4  3\n",
            "0.253776 0.636364 0.4  3\n",
            "0.209818 0.909091 0.4  3\n",
            "0.462235 0.090909 1.0  3\n",
            "0.413897 0.363636 1.0  3\n",
            "0.347432 0.636364 1.0  3\n",
            "0.335347 0.909091 1.0  3\n",
            "0.444108 0.090909 0.0  4\n",
            "0.296072 0.363636 0.0  4\n",
            "0.356495 0.636364 0.0  4\n",
            "0.320241 0.909091 0.0  4\n",
            "0.540785 0.090909 0.6  4\n",
            "0.506102 0.363636 0.6  4\n",
            "0.401812 0.636364 0.6  4\n",
            "0.369003 0.909091 0.6  4\n",
            "0.362840 0.363636 0.2  4\n",
            "0.320241 0.818182 0.2  4\n",
            "0.446284 0.000000 0.8  4\n",
            "0.391178 0.272727 0.8  4\n",
            "0.378157 0.545455 0.8  4\n",
            "0.319939 0.818182 0.8  4\n",
            "0.519637 0.090909 0.4  4\n",
            "0.398791 0.363636 0.4  4\n",
            "0.347432 0.636364 0.4  4\n",
            "0.323262 0.909091 0.4  4\n",
            "0.444108 0.181818 1.0  4\n",
            "0.353474 0.454545 1.0  4\n",
            "0.362537 0.727273 1.0  4\n",
            "0.314199 1.000000 1.0  4\n"
          ]
        }
      ],
      "source": [
        "# Gabungkan kembali fitur (X) dan label (y) ke dalam satu DataFrame\n",
        "df_landmines_combined = pd.concat([X, y], axis=1)\n",
        "\n",
        "# Tampilkan total baris data\n",
        "print(\"Total baris dataset ini adalah =\", len(df_landmines_combined))\n",
        "\n",
        "# Visualisasi isi dataset setelah digabung dengan label target\n",
        "print(\"Visualisasi dataset Land Mines setelah digabung dengan label target:\")\n",
        "print(df_landmines_combined.to_string(index=False))\n"
      ]
    },
    {
      "cell_type": "code",
      "execution_count": 14,
      "metadata": {
        "id": "Uv31iRyuyzzt"
      },
      "outputs": [],
      "source": [
        "# Simpan dataset Land Mines yang sudah digabung ke file CSV\n",
        "df_landmines_combined.to_csv('data_landmines.csv', index=False)"
      ]
    },
    {
      "cell_type": "markdown",
      "metadata": {
        "id": "4_2wnTX5kGg9"
      },
      "source": [
        "## Modelling\n",
        "\n",
        "Modeling adalah proses membangun dan mengembangkan model matematis dan statistik untuk merepresentasikan struktur dan pola dalam suatu kumpulan data. Dalam konteks data mining, modeling digunakan untuk memahami hubungan antar variabel serta membuat prediksi terhadap data baru yang belum terlihat sebelumnya.\n",
        "\n",
        "Tujuan utama dari modeling adalah menghasilkan model yang akurat sehingga dapat digunakan untuk pengambilan keputusan yang berbasis data, baik dalam bentuk klasifikasi, regresi, clustering, atau jenis analisis lainnya. Proses ini biasanya melibatkan pemilihan algoritma yang sesuai, pelatihan model menggunakan data historis, dan evaluasi performa model."
      ]
    },
    {
      "cell_type": "markdown",
      "metadata": {
        "id": "XWxiTz2RzDuD"
      },
      "source": [
        "### Modelling Klasifikasi Menggunakan Decision Tree\n",
        "\n",
        "Model klasifikasi Decision Tree Classifier merupakan salah satu metode supervised learning yang berbasis aturan dan struktur pohon bercabang. Setiap cabang pada pohon merepresentasikan keputusan berdasarkan nilai fitur, dan setiap daun pada pohon menunjukkan hasil klasifikasi."
      ]
    },
    {
      "cell_type": "markdown",
      "metadata": {
        "id": "WcEKceeuz3kk"
      },
      "source": [
        "**Langkah-Langkah Modelling: Deteksi Ranjau Darat dengan Decision Tree**\n",
        "\n",
        "1. **Pembagian Dataset: Data Training dan Data Testing**\n",
        "\n",
        "Langkah pertama dalam pemodelan adalah membagi data menjadi dua bagian:\n",
        "\n",
        "- **Data Latih (Training Set):** digunakan untuk melatih model.\n",
        "- **Data Uji (Testing Set):** digunakan untuk mengevaluasi performa model terhadap data baru yang belum pernah dilihat sebelumnya.\n",
        "\n",
        "Dalam eksperimen ini digunakan rasio **80% data latih** dan **20% data uji** menggunakan fungsi `train_test_split`.\n",
        "\n",
        "\n",
        "2. **Pra-pemrosesan Data**\n",
        "\n",
        "Sebelum data dimasukkan ke dalam model Decision Tree, dilakukan beberapa tahapan pra-pemrosesan:\n",
        "\n",
        "- **Label target** (`class`) yang semula berupa string **'Non-Mine'** dan **'Mine'** diubah menjadi bentuk numerik **0 dan 1** menggunakan Label Encoding.\n",
        "- **Fitur numerik** (`V`, `H`, `S`, `M`) telah distandarisasi menggunakan `StandardScaler` agar setiap fitur berada dalam skala yang sebanding.\n",
        "\n",
        "3. **Pelatihan Model**\n",
        "\n",
        "Model Decision Tree dibangun dengan prinsip membagi data pada setiap node berdasarkan fitur yang **paling efektif memisahkan kelas** (berdasarkan pengukuran impurity seperti **Gini Index**).\n",
        "\n",
        "Model dipisahkan secara rekursif hingga mencapai:\n",
        "\n",
        "- **Kriteria:** `'gini'` (untuk mengukur kualitas pemisahan)\n",
        "- **Kedalaman maksimum (max_depth):** `5`, untuk mencegah overfitting dan menjaga interpretabilitas model.\n",
        "\n",
        "4. **Evaluasi Model**\n",
        "\n",
        "Setelah model dilatih, performanya dievaluasi menggunakan beberapa metrik:\n",
        "\n",
        "- **Akurasi:** Persentase prediksi yang benar dari total data uji.\n",
        "- **Classification Report:** Meliputi precision, recall, dan F1-score untuk masing-masing kelas (`Mine` dan `Non-Mine`).\n",
        "- **Confusion Matrix:** Untuk melihat seberapa baik model membedakan antara ranjau dan bukan ranjau.\n",
        "\n",
        "\n",
        "5. **Prediksi Kelas Objek**\n",
        "\n",
        "Setelah proses pelatihan dan evaluasi selesai, model dapat digunakan untuk:\n",
        "\n",
        "- **Memprediksi** apakah suatu objek merupakan ranjau atau bukan berdasarkan sinyal spektral dari sensor.\n",
        "- **Mengidentifikasi fitur paling berpengaruh** dalam klasifikasi (misalnya fitur `V` yang terdeteksi memiliki outlier).\n",
        "\n",
        "\n",
        "6. **Visualisasi Pohon Keputusan**"
      ]
    },
    {
      "cell_type": "code",
      "execution_count": 23,
      "metadata": {
        "colab": {
          "base_uri": "https://localhost:8080/",
          "height": 895
        },
        "id": "mhWz8VVokMn5",
        "outputId": "8c6cad9b-f165-4a37-ed33-43db7102f3c6"
      },
      "outputs": [
        {
          "name": "stderr",
          "output_type": "stream",
          "text": [
            "/tmp/ipython-input-23-1567105041.py:9: FutureWarning: Downcasting behavior in `replace` is deprecated and will be removed in a future version. To retain the old behavior, explicitly call `result.infer_objects(copy=False)`. To opt-in to the future behavior, set `pd.set_option('future.no_silent_downcasting', True)`\n",
            "  y = y.replace({'Non-Mine': 0, 'Mine': 1})\n"
          ]
        },
        {
          "name": "stdout",
          "output_type": "stream",
          "text": [
            "Label unik setelah pembersihan: [np.int64(0), np.int64(1)]\n",
            "Akurasi: 1.0\n",
            "\n",
            "=== Classification Report ===\n",
            "              precision    recall  f1-score   support\n",
            "\n",
            "    Non-Mine       1.00      1.00      1.00        16\n",
            "        Mine       1.00      1.00      1.00        13\n",
            "\n",
            "    accuracy                           1.00        29\n",
            "   macro avg       1.00      1.00      1.00        29\n",
            "weighted avg       1.00      1.00      1.00        29\n",
            "\n"
          ]
        },
        {
          "data": {
            "image/png": "[encoded data removed]",
            "text/plain": [
              "<Figure size 2000x1000 with 1 Axes>"
            ]
          },
          "metadata": {},
          "output_type": "display_data"
        }
      ],
      "source": [
        "from sklearn.tree import DecisionTreeClassifier, plot_tree\n",
        "from sklearn.metrics import accuracy_score, classification_report\n",
        "from sklearn.model_selection import train_test_split\n",
        "import matplotlib.pyplot as plt\n",
        "import pandas as pd\n",
        "\n",
        "# 1. Ubah label menjadi 0 dan 1, hilangkan yang tidak valid\n",
        "y = y.replace({0: 'Non-Mine', 1: 'Mine', 2: 'ERROR', 3: 'ERROR', 4: 'ERROR'})\n",
        "y = y.replace({'Non-Mine': 0, 'Mine': 1})\n",
        "\n",
        "# 2. Reset index untuk memastikan sinkronisasi\n",
        "X = X.reset_index(drop=True)\n",
        "y = y.reset_index(drop=True)\n",
        "\n",
        "# 3. Filter hanya data yang label-nya 0 atau 1\n",
        "valid_index = y.isin([0, 1])\n",
        "X = X[valid_index]\n",
        "y = y[valid_index]\n",
        "\n",
        "# 4. Pastikan y adalah Series bertipe int (1D)\n",
        "y = y.astype(int)\n",
        "y = pd.Series(y.values.ravel())\n",
        "\n",
        "print(\"Label unik setelah pembersihan:\", sorted(y.unique()))\n",
        "\n",
        "# 5. Split data\n",
        "X_train, X_test, y_train, y_test = train_test_split(\n",
        "    X, y, test_size=0.2, random_state=42\n",
        ")\n",
        "\n",
        "# 6. Training Decision Tree\n",
        "clf = DecisionTreeClassifier(criterion='gini', max_depth=5, random_state=42)\n",
        "clf.fit(X_train, y_train)\n",
        "\n",
        "# 7. Evaluasi\n",
        "y_pred = clf.predict(X_test)\n",
        "print(\"Akurasi:\", accuracy_score(y_test, y_pred))\n",
        "\n",
        "print(\"\\n=== Classification Report ===\")\n",
        "target_names = ['Non-Mine', 'Mine']\n",
        "print(classification_report(y_test, y_pred, target_names=target_names))\n",
        "\n",
        "# 8. Visualisasi Pohon Keputusan\n",
        "plt.figure(figsize=(20, 10))\n",
        "plot_tree(\n",
        "    clf,\n",
        "    feature_names=X.columns,\n",
        "    class_names=target_names,\n",
        "    filled=True,\n",
        "    rounded=True,\n",
        "    fontsize=10\n",
        ")\n",
        "plt.title(\"Pohon Keputusan Klasifikasi Deteksi Ranjau Darat\")\n",
        "plt.show()\n"
      ]
    },
    {
      "cell_type": "markdown",
      "metadata": {
        "id": "5d1U7Z2tY4ME"
      },
      "source": [
        "### Modelling Klasifikasi Menggunakan Gaussian Naive Bayes\n",
        "Gaussian Naive Bayes (GNB) adalah algoritma klasifikasi berbasis probabilistik yang digunakan dalam machine learning untuk memprediksi kelas suatu data berdasarkan fitur-fitur numerik. GNB merupakan varian dari algoritma Naive Bayes yang mengasumsikan bahwa nilai dari setiap fitur mengikuti distribusi normal (Gaussian).\n",
        "\n",
        "Pada pemodelan ini, tujuan utama adalah untuk mengklasifikasikan apakah suatu titik data mewakili keberadaan ranjau (mine) atau bukan (non-mine) berdasarkan fitur numerik hasil pengukuran sensor. Fitur-fitur ini bisa mencakup nilai amplitudo gelombang (V, H, S) dan informasi medan (M).\n",
        "\n",
        "Dataset Land Mines terdiri dari dua kelas:\n",
        "\n",
        "0 = Non-Mine (bukan ranjau),\n",
        "\n",
        "1 = Mine (ranjau darat)."
      ]
    },
    {
      "cell_type": "markdown",
      "metadata": {
        "id": "LZo_5UifiUtK"
      },
      "source": [
        "**Langkah-langkah modelling:**\n",
        "\n",
        "1. **Pembagian dataset : data training dan data testing**\n",
        "\n",
        "Langkah awal dalam proses pemodelan adalah membagi dataset menjadi dua bagian:\n",
        "\n",
        "- **Data Latih (Training set)** digunakan untuk melatih model Gaussian Naive Bayes.  \n",
        "- **Data Uji (Testing set)** digunakan untuk mengevaluasi kemampuan generalisasi model terhadap data yang belum pernah dilihat sebelumnya.\n",
        "\n",
        "Dalam eksperimen ini, digunakan rasio **80% data training dan 20% data testing**.\n",
        "\n",
        "2. **Menghitung probabilitas awal (prior probability)**\n",
        "\n",
        "Selanjutnya hitung probabilitas awal (prior) untuk masing-masing kelas:\n",
        "\n",
        "- Hitung jumlah data latih untuk setiap kelas (**Non-Mine** dan **Mine**).  \n",
        "- Bagi dengan total jumlah data latih.\n",
        "\n",
        "Nilai ini menunjukkan seberapa besar kemungkinan suatu data merupakan ranjau atau bukan **tanpa melihat fitur apapun**.\n",
        "\n",
        "\n",
        "3. **Menghitung rata-rata dan standar deviasi tiap fitur**\n",
        "\n",
        "Setelah prior diketahui, untuk setiap kelas (Non-Mine dan Mine), model menghitung:\n",
        "\n",
        "- **Rata-rata (mean)** untuk masing-masing fitur numerik seperti `V`, `H`, `S`, dan `M`.  \n",
        "- **Standar deviasi (standard deviation)** dari setiap fitur pada kelas tersebut.\n",
        "\n",
        "4. **Menghitung distribusi gaussian**\n",
        "\n",
        "Distribusi ini digunakan untuk menghitung seberapa besar kemungkinan nilai fitur tersebut muncul dalam sebuah kelas.\n",
        "\n",
        "Setiap nilai fitur akan dimasukkan ke dalam rumus distribusi Gaussian berikut:\n",
        "\n",
        "$$\n",
        "P(x|\\mu,\\sigma) = \\frac{1}{\\sqrt{2\\pi\\sigma^2}} \\exp\\left( -\\frac{(x - \\mu)^2}{2\\sigma^2} \\right)\n",
        "$$\n",
        "\n",
        "Dimana:\n",
        "\n",
        "- $x$: nilai fitur input  \n",
        "- $\\mu$: rata-rata fitur pada kelas tertentu  \n",
        "- $\\sigma$: standar deviasi fitur pada kelas tertentu\n",
        "\n",
        "5. **Menghitung posterior probability**\n",
        "\n",
        "Dengan mengalikan semua hasil distribusi Gaussian dan dikalikan dengan prior dari kelas, diperoleh nilai **posterior probability** untuk masing-masing kelas:\n",
        "\n",
        "$$\n",
        "\\text{Posterior} = P(x_1|C_i) \\cdot P(x_2|C_i) \\cdot \\ldots \\cdot P(x_n|C_i) \\cdot P(C_i)\n",
        "$$\n",
        "\n",
        "Dimana:\n",
        "\n",
        "- $P(x_k|C_i)$: hasil distribusi Gaussian dari fitur ke-k pada kelas $C_i$  \n",
        "- $P(C_i)$: prior probability dari kelas $C_i$\n",
        "\n",
        "Model kemudian akan memilih **kelas dengan nilai posterior tertinggi** sebagai **prediksi akhir** (ranjau atau bukan ranjau).\n"
      ]
    },
    {
      "cell_type": "code",
      "execution_count": 24,
      "metadata": {
        "colab": {
          "base_uri": "https://localhost:8080/",
          "height": 615
        },
        "id": "LYWjKd_0rF6J",
        "outputId": "dff4e5f7-ab6c-4c13-de94-eeb4722ac05c"
      },
      "outputs": [
        {
          "name": "stdout",
          "output_type": "stream",
          "text": [
            "Akurasi: 1.0\n",
            "\n",
            "=== Classification Report ===\n",
            "              precision    recall  f1-score   support\n",
            "\n",
            "    Non-Mine       1.00      1.00      1.00        16\n",
            "        Mine       1.00      1.00      1.00        13\n",
            "\n",
            "    accuracy                           1.00        29\n",
            "   macro avg       1.00      1.00      1.00        29\n",
            "weighted avg       1.00      1.00      1.00        29\n",
            "\n"
          ]
        },
        {
          "data": {
            "image/png": "[encoded data removed]",
            "text/plain": [
              "<Figure size 600x400 with 2 Axes>"
            ]
          },
          "metadata": {},
          "output_type": "display_data"
        }
      ],
      "source": [
        "from sklearn.naive_bayes import GaussianNB\n",
        "from sklearn.metrics import classification_report, accuracy_score, confusion_matrix\n",
        "import matplotlib.pyplot as plt\n",
        "import seaborn as sns\n",
        "\n",
        "# 1. Latih model Gaussian Naive Bayes\n",
        "gnb = GaussianNB()\n",
        "gnb.fit(X_train, y_train)\n",
        "\n",
        "# 2. Evaluasi hasil prediksi\n",
        "y_pred = gnb.predict(X_test)\n",
        "\n",
        "print(\"Akurasi:\", accuracy_score(y_test, y_pred))\n",
        "\n",
        "print(\"\\n=== Classification Report ===\")\n",
        "target_names = ['Non-Mine', 'Mine']\n",
        "print(classification_report(y_test, y_pred, target_names=target_names))\n",
        "\n",
        "# 3. Confusion Matrix\n",
        "cm = confusion_matrix(y_test, y_pred, labels=gnb.classes_)\n",
        "\n",
        "plt.figure(figsize=(6, 4))\n",
        "sns.heatmap(cm, annot=True, fmt='d',\n",
        "            xticklabels=target_names,\n",
        "            yticklabels=target_names,\n",
        "            cmap='Blues')\n",
        "\n",
        "plt.xlabel(\"Predicted\")\n",
        "plt.ylabel(\"Actual\")\n",
        "plt.title(\"Confusion Matrix - Naive Bayes (Land Mines Dataset)\")\n",
        "plt.tight_layout()\n",
        "plt.show()\n"
      ]
    },
    {
      "cell_type": "markdown",
      "metadata": {
        "id": "8vruDUV9sy2U"
      },
      "source": [
        "### Modelling Klasifikasi Menggunakan K-Nearest Neighbor (K-NN)\n",
        "\n",
        "Model **K-Nearest Neighbors (KNN)** digunakan dalam pemodelan ini untuk memprediksi apakah suatu sampel merupakan **ranjau darat (Mine)** atau **bukan ranjau (Non-Mine)** berdasarkan fitur-fitur numerik hasil pengukuran sensor seperti `V`, `H`, `S`, dan `M`.\n",
        "\n",
        "KNN merupakan metode pembelajaran berbasis instance (**instance-based learning**) yang tidak membentuk model eksplisit selama pelatihan. Sebaliknya, KNN menyimpan seluruh data pelatihan, dan melakukan prediksi terhadap data baru dengan mencari sejumlah *k* tetangga terdekat di ruang fitur menggunakan metrik jarak, seperti **Euclidean Distance**.\n",
        "\n",
        "Dalam konteks klasifikasi ranjau darat, KNN akan mengklasifikasikan sampel baru berdasarkan mayoritas kelas dari tetangga-tetangganya. Jika sebagian besar tetangga adalah “Mine”, maka data tersebut juga diprediksi sebagai “Mine”, dan sebaliknya.\n",
        "\n"
      ]
    },
    {
      "cell_type": "markdown",
      "metadata": {
        "id": "5p3sbNzNs7zy"
      },
      "source": [
        "**Langkah-langkah Modelling K-Nearest Neighbors (KNN)**\n",
        "\n",
        "1. **Pembagian dataset: training dan testing**\n",
        "\n",
        "Langkah awal dalam proses pemodelan adalah membagi dataset menjadi dua bagian:\n",
        "\n",
        "- **Data Latih (Training set)** digunakan sebagai referensi (tetangga-tetangga) untuk proses klasifikasi.\n",
        "- **Data Uji (Testing set)** digunakan untuk menguji performa model terhadap data baru yang belum pernah dilihat sebelumnya.\n",
        "\n",
        "Dalam eksperimen ini, digunakan rasio **80% data training dan 20% data testing**.\n",
        "\n",
        "2. **Pra-pemrosesan data**\n",
        "\n",
        "Agar algoritma KNN bekerja secara optimal, dilakukan beberapa tahapan pra-pemrosesan berikut:\n",
        "\n",
        "**a. Encoding Label Kelas (Target)**\n",
        "\n",
        "- Label kelas (target) pada dataset Land Mines awalnya berupa nilai 0 hingga 4.\n",
        "- Namun, hanya kelas **0 (Non-Mine)** dan **1 (Mine)** yang digunakan dalam pemodelan ini.\n",
        "- Label-label yang tidak valid (selain 0 dan 1) dibuang untuk menjaga fokus pada klasifikasi biner.\n",
        "\n",
        "**b. Scaling / Normalisasi**\n",
        "\n",
        "- Fitur numerik seperti `V`, `H`, `S`, dan `M` memiliki skala yang berbeda-beda.\n",
        "- Karena KNN sangat sensitif terhadap skala fitur, digunakan **StandardScaler** untuk menstandarkan data agar setiap fitur memiliki distribusi seragam (**mean = 0** dan **standard deviation = 1**).\n",
        "\n",
        "3. **Konsep Kerja KNN**\n",
        "\n",
        "Berbeda dengan model prediktif berbasis fungsi, KNN hanya menyimpan data latih dan membuat keputusan berdasarkan kedekatan data:\n",
        "\n",
        "1. Hitung jarak (biasanya **Euclidean**) dari data uji ke seluruh data latih.\n",
        "2. Ambil **k tetangga terdekat** berdasarkan jarak tersebut.\n",
        "3. Lakukan **voting mayoritas**: kelas yang paling sering muncul di antara tetangga tersebut menjadi prediksi.\n",
        "\n",
        "Contoh:\n",
        "\n",
        "Jika **k = 5** dan 3 dari 5 tetangga terdekat adalah kelas **Mine**, maka data tersebut diprediksi sebagai **Mine**.\n",
        "\n",
        "\n",
        "4. **Evaluasi Model**\n",
        "\n",
        "Untuk mengukur performa model KNN, dilakukan evaluasi menggunakan:\n",
        "\n",
        "- **Akurasi**: rasio jumlah prediksi benar terhadap total data uji.\n",
        "- **Classification Report**: mencakup metrik **precision**, **recall**, dan **F1-score** untuk masing-masing kelas (Non-Mine dan Mine).\n",
        "- **Confusion Matrix**: menunjukkan detail jumlah prediksi benar dan salah untuk masing-masing kelas."
      ]
    },
    {
      "cell_type": "code",
      "execution_count": 25,
      "metadata": {
        "colab": {
          "base_uri": "https://localhost:8080/",
          "height": 615
        },
        "id": "bV4uTrUO5Ma_",
        "outputId": "b66e71ca-9e29-485f-e863-3956050f917f"
      },
      "outputs": [
        {
          "name": "stdout",
          "output_type": "stream",
          "text": [
            "Akurasi: 0.896551724137931\n",
            "\n",
            "=== Classification Report ===\n",
            "              precision    recall  f1-score   support\n",
            "\n",
            "    Non-Mine       0.88      0.94      0.91        16\n",
            "        Mine       0.92      0.85      0.88        13\n",
            "\n",
            "    accuracy                           0.90        29\n",
            "   macro avg       0.90      0.89      0.89        29\n",
            "weighted avg       0.90      0.90      0.90        29\n",
            "\n"
          ]
        },
        {
          "data": {
            "image/png": "[encoded data removed]",
            "text/plain": [
              "<Figure size 600x400 with 2 Axes>"
            ]
          },
          "metadata": {},
          "output_type": "display_data"
        }
      ],
      "source": [
        "from sklearn.neighbors import KNeighborsClassifier\n",
        "from sklearn.metrics import classification_report, accuracy_score, confusion_matrix\n",
        "import matplotlib.pyplot as plt\n",
        "import seaborn as sns\n",
        "\n",
        "# 1. Latih model KNN\n",
        "knn = KNeighborsClassifier(n_neighbors=5)\n",
        "knn.fit(X_train, y_train)\n",
        "\n",
        "# 2. Evaluasi model\n",
        "y_pred = knn.predict(X_test)\n",
        "\n",
        "print(\"Akurasi:\", accuracy_score(y_test, y_pred))\n",
        "\n",
        "print(\"\\n=== Classification Report ===\")\n",
        "target_names = ['Non-Mine', 'Mine']\n",
        "print(classification_report(y_test, y_pred, target_names=target_names))\n",
        "\n",
        "# 3. Confusion Matrix\n",
        "cm = confusion_matrix(y_test, y_pred, labels=knn.classes_)\n",
        "\n",
        "plt.figure(figsize=(6, 4))\n",
        "sns.heatmap(\n",
        "    cm,\n",
        "    annot=True,\n",
        "    fmt='d',\n",
        "    xticklabels=target_names,\n",
        "    yticklabels=target_names,\n",
        "    cmap='YlGnBu'\n",
        ")\n",
        "plt.xlabel(\"Predicted\")\n",
        "plt.ylabel(\"Actual\")\n",
        "plt.title(\"Confusion Matrix - KNN (Land Mines Dataset)\")\n",
        "plt.tight_layout()\n",
        "plt.show()\n"
      ]
    },
    {
      "cell_type": "markdown",
      "metadata": {
        "id": "1BsaTMqn59FC"
      },
      "source": [
        "## Evaluasi Data\n",
        "\n",
        "Dari hasil evaluasi terhadap tiga model klasifikasi pada dataset Land Mines, diperoleh nilai akurasi sebagai berikut:\n",
        "\n",
        "Decision Tree = 100,00%\n",
        "\n",
        "Gaussian Naive Bayes = 100,00%\n",
        "\n",
        "K-Nearest Neighbor (KNN) = 89,66%\n",
        "\n",
        "Berdasarkan nilai akurasi tersebut, dapat disimpulkan bahwa Decision Tree dan Gaussian Naive Bayes menunjukkan performansi terbaik, dengan akurasi sempurna pada seluruh data uji. Kedua model ini berhasil mengklasifikasikan seluruh sampel dengan tepat, tanpa kesalahan, baik untuk kelas Mine maupun Non-Mine.\n",
        "\n",
        "Sementara itu, K-Nearest Neighbor (KNN) menunjukkan akurasi yang masih sangat baik, yaitu sekitar 90%, namun terdapat sedikit kesalahan dalam mengklasifikasikan beberapa sampel, khususnya pada kelas Mine, yang menyebabkan nilai recall-nya sedikit lebih rendah dibandingkan kelas Non-Mine.\n",
        "\n",
        "Meskipun demikian, KNN tetap merupakan alternatif yang solid, khususnya jika tuning nilai k dilakukan secara optimal.\n",
        "\n",
        "\n"
      ]
    }
  ],
  "metadata": {
    "colab": {
      "provenance": []
    },
    "kernelspec": {
      "display_name": "Python 3",
      "name": "python3"
    },
    "language_info": {
      "name": "python"
    }
  },
  "nbformat": 4,
  "nbformat_minor": 0
}
